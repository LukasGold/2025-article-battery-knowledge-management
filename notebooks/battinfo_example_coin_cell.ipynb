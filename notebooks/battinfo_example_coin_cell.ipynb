{
 "cells": [
  {
   "cell_type": "markdown",
   "metadata": {},
   "source": [
    "# BattINFO Example: Load and Query an Electrolyte Composition\n",
    "\n",
    "This Jupyter Notebook demonstrates how to process JSON-LD (Linked Data in JSON format) using `rdflib`, a Python library for working with RDF (Resource Description Framework) graphs. We will load an example JSON-LD file containing battery coin cell metadata, convert it into an RDF graph, and perform SPARQL queries to extract structured information.\n",
    "\n",
    "But first, let's load the packages we will need."
   ]
  },
  {
   "cell_type": "code",
   "execution_count": 34,
   "metadata": {},
   "outputs": [],
   "source": [
    "import json\n",
    "from rdflib import Graph\n",
    "from ontopy import get_ontology"
   ]
  },
  {
   "cell_type": "markdown",
   "metadata": {},
   "source": [
    "## Step 1: Load the Battery Ontology\n",
    "Ontologies define a structured vocabulary for describing data in a machine-readable way. Here, we use `ontopy` to retrieve the `battinfo` ontology, which provides standardized definitions for battery-related concepts such as electrolytes, solvents, and numerical properties."
   ]
  },
  {
   "cell_type": "code",
   "execution_count": 35,
   "metadata": {},
   "outputs": [],
   "source": [
    "# Loading from web\n",
    "battinfo = get_ontology('https://w3id.org/emmo/domain/battery/inferred').load()\n"
   ]
  },
  {
   "cell_type": "markdown",
   "metadata": {},
   "source": [
    "## Step 2: Load the JSON-LD File\n",
    "The JSON-LD file contains battery-related metadata in a structured format. We will load this file into Python so that we can convert it into an RDF graph."
   ]
  },
  {
   "cell_type": "code",
   "execution_count": 36,
   "metadata": {},
   "outputs": [],
   "source": [
    "# Load JSON-LD file\n",
    "file_path = \"battinfo_example_coin_cell.metadata.json\"\n",
    "with open(file_path, \"r\") as file:\n",
    "    jsonld_data = json.load(file)"
   ]
  },
  {
   "cell_type": "markdown",
   "metadata": {},
   "source": [
    "## Step 3: Initialize and Parse the RDF Graph\n",
    "RDF (Resource Description Framework) is a standard for structuring linked data. Here, we create an RDF graph and populate it with data from the JSON-LD file."
   ]
  },
  {
   "cell_type": "code",
   "execution_count": 37,
   "metadata": {},
   "outputs": [
    {
     "data": {
      "text/plain": [
       "<Graph identifier=N3b5e2e035b5249eda8b0f86719a82031 (<class 'rdflib.graph.Graph'>)>"
      ]
     },
     "execution_count": 37,
     "metadata": {},
     "output_type": "execute_result"
    }
   ],
   "source": [
    "g = Graph()\n",
    "g.parse(data=json.dumps(jsonld_data), format=\"json-ld\")"
   ]
  },
  {
   "cell_type": "markdown",
   "metadata": {},
   "source": [
    "## Step 4: Query the Graph using SPARQL\n",
    "SPARQL is a query language for retrieving information from RDF graphs. In this query, we retrieve:\n",
    "- The coin cell identifier and its human-readable label\n",
    "- The nominal voltage \n",
    "- The mass"
   ]
  },
  {
   "cell_type": "code",
   "execution_count": 38,
   "metadata": {},
   "outputs": [],
   "source": [
    "query = f\"\"\"\n",
    "PREFIX emmo: <https://w3id.org/emmo/domain/battery/>\n",
    "PREFIX rdfs: <http://www.w3.org/2000/01/rdf-schema#>\n",
    "SELECT ?cell ?cellLabel ?mass ?voltage WHERE {{\n",
    "    ?cell a <{battinfo.CoinCell.iri}> ;\n",
    "          rdfs:label ?cellLabel .\n",
    "    OPTIONAL {{\n",
    "        ?cell <{battinfo.hasProperty.iri}> ?massProperty .\n",
    "        ?massProperty a <{battinfo.Mass.iri}> ;\n",
    "                     <{battinfo.hasNumericalPart.iri}> ?massValue .\n",
    "        ?massValue <{battinfo.hasNumberValue.iri}> ?mass .\n",
    "    }}\n",
    "    OPTIONAL {{\n",
    "        ?cell <{battinfo.hasProperty.iri}> ?voltageProperty .\n",
    "        ?voltageProperty a <{battinfo.NominalVoltage.iri}> ;\n",
    "                        <{battinfo.hasNumericalPart.iri}> ?voltageValue .\n",
    "        ?voltageValue <{battinfo.hasNumberValue.iri}> ?voltage .\n",
    "    }}\n",
    "}}\n",
    "\"\"\""
   ]
  },
  {
   "cell_type": "markdown",
   "metadata": {},
   "source": [
    "## Step 5: Execute the SPARQL Query\n",
    "This retrieves the relevant data from our RDF graph, ensuring that we get human-readable labels instead of cryptic UUIDs or blank nodes."
   ]
  },
  {
   "cell_type": "code",
   "execution_count": 39,
   "metadata": {},
   "outputs": [],
   "source": [
    "# Execute query\n",
    "results = g.query(query)"
   ]
  },
  {
   "cell_type": "markdown",
   "metadata": {},
   "source": [
    "## Step 6: Display Results\n",
    "We process the query results and format them for easy readability."
   ]
  },
  {
   "cell_type": "code",
   "execution_count": 40,
   "metadata": {},
   "outputs": [
    {
     "name": "stdout",
     "output_type": "stream",
     "text": [
      "Coin Cell Metadata:\n",
      "Label: IFpR2032, Mass: 3 g, Voltage: 3.2 V\n"
     ]
    }
   ],
   "source": [
    "output = []\n",
    "for row in results:\n",
    "    output.append(f\"Label: {row.cellLabel}, \"\n",
    "                  f\"Mass: {row.mass} g, Voltage: {row.voltage} V\")\n",
    "\n",
    "print(\"Coin Cell Metadata:\")\n",
    "for line in output:\n",
    "    print(line)"
   ]
  },
  {
   "cell_type": "markdown",
   "metadata": {},
   "source": [
    "## Summary\n",
    "This notebook demonstrated how to process and query JSON-LD data representing battery coin cell metadata. We loaded the data into an RDF graph, executed a SPARQL query to extract structured information, and retrieved human-readable labels for better interpretability. This approach highlights the power of semantic data models in making battery-related knowledge more accessible to both humans and machine agents."
   ]
  }
 ],
 "metadata": {
  "kernelspec": {
   "display_name": ".venv",
   "language": "python",
   "name": "python3"
  },
  "language_info": {
   "codemirror_mode": {
    "name": "ipython",
    "version": 3
   },
   "file_extension": ".py",
   "mimetype": "text/x-python",
   "name": "python",
   "nbconvert_exporter": "python",
   "pygments_lexer": "ipython3",
   "version": "3.10.10"
  }
 },
 "nbformat": 4,
 "nbformat_minor": 2
}
